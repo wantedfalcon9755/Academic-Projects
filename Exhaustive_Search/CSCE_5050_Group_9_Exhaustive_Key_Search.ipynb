{
  "nbformat": 4,
  "nbformat_minor": 0,
  "metadata": {
    "colab": {
      "provenance": []
    },
    "kernelspec": {
      "name": "python3",
      "display_name": "Python 3"
    },
    "language_info": {
      "name": "python"
    }
  },
  "cells": [
    {
      "cell_type": "markdown",
      "source": [
        "#Programming Project 1 Exhaustive Key Search CSCE 5050\n",
        "\n",
        "##Group 9\n",
        "\n",
        "###Members:\n",
        "\n",
        "####Govind Naidu Pulakhandam - 11479985\n",
        "####Nitin Varma Siruvuri -  11513261"
      ],
      "metadata": {
        "id": "d3rtwuOrXWFb"
      }
    },
    {
      "cell_type": "markdown",
      "source": [
        "Required Libraries"
      ],
      "metadata": {
        "id": "sc9JZ76jV3kB"
      }
    },
    {
      "cell_type": "code",
      "source": [
        "!pip3 install pycryptodomex\n",
        "!pip install pycryptodome\n",
        "!pip install tqdm\n",
        "'''We are installing the pycryptodome libraries and their dependencies\n",
        "\n",
        "to work with the AES cipher as per the question requirements'''"
      ],
      "metadata": {
        "colab": {
          "base_uri": "https://localhost:8080/",
          "height": 157
        },
        "id": "ZpMtnXPMO6y-",
        "outputId": "b61f3fd9-6211-4a1b-c4e8-b0ab384332af"
      },
      "execution_count": 4,
      "outputs": [
        {
          "output_type": "stream",
          "name": "stdout",
          "text": [
            "Looking in indexes: https://pypi.org/simple, https://us-python.pkg.dev/colab-wheels/public/simple/\n",
            "Requirement already satisfied: pycryptodomex in /usr/local/lib/python3.8/dist-packages (3.17)\n",
            "Looking in indexes: https://pypi.org/simple, https://us-python.pkg.dev/colab-wheels/public/simple/\n",
            "Requirement already satisfied: pycryptodome in /usr/local/lib/python3.8/dist-packages (3.17)\n",
            "Looking in indexes: https://pypi.org/simple, https://us-python.pkg.dev/colab-wheels/public/simple/\n",
            "Requirement already satisfied: tqdm in /usr/local/lib/python3.8/dist-packages (4.64.1)\n"
          ]
        },
        {
          "output_type": "execute_result",
          "data": {
            "text/plain": [
              "'We are installing the pycryptodome libraries and their dependencies\\n\\nto work with the AES cipher as per the question requirements'"
            ],
            "application/vnd.google.colaboratory.intrinsic+json": {
              "type": "string"
            }
          },
          "metadata": {},
          "execution_count": 4
        }
      ]
    },
    {
      "cell_type": "markdown",
      "source": [
        "Defined functions to use in the program"
      ],
      "metadata": {
        "id": "4_uSQfBtV9XG"
      }
    },
    {
      "cell_type": "code",
      "source": [
        "'''Defining the function to read the contents of the files in the binary format. \n",
        "This function is used to read the data fromt the .bin files \n",
        "mainly from c1.bin,c2.bin,c3.bin,nonce1.bin,nonce2.bin,nonce3.bin\n",
        "\n",
        "'''\n",
        "\n",
        "def read_binary_files(binary_file_name):\n",
        "    binary_fp = open(binary_file_name, \"rb\")\n",
        "    '''The argument \"rb\" is used to read the binary data from the files or to read the .bin file in general '''\n",
        "    binary_file_content = binary_fp.read()\n",
        "    binary_fp.close()\n",
        "    '''reading the content of the binary file using the binary file pointer and also closing the opened file and returing the file content'''\n",
        "    \n",
        "    return binary_file_content"
      ],
      "metadata": {
        "id": "YwyCrYJTPB7n"
      },
      "execution_count": 5,
      "outputs": []
    },
    {
      "cell_type": "code",
      "execution_count": 6,
      "metadata": {
        "id": "VTR136gUOJxd"
      },
      "outputs": [],
      "source": [
        "#Using the code fromt he utils_demo.py file given \n",
        "\n",
        "def write_bytes(fn, value):\n",
        "    f = open(fn, \"wb\")\n",
        "    f.write(value)\n",
        "    f.close()\n",
        "\n",
        "def write_file(fn, value):\n",
        "    f = open(fn, \"w\")\n",
        "    f.write(value)\n",
        "    f.close()"
      ]
    },
    {
      "cell_type": "code",
      "source": [
        "!unzip /content/sample_data/challenge.zip\n",
        "\n",
        "#To unzip the contents of the files that are given to perform the project task"
      ],
      "metadata": {
        "colab": {
          "base_uri": "https://localhost:8080/",
          "height": 0
        },
        "id": "ft00qcw0PM9S",
        "outputId": "88320e86-e6c6-4201-891e-b95cae3791f9"
      },
      "execution_count": 7,
      "outputs": [
        {
          "output_type": "stream",
          "name": "stdout",
          "text": [
            "Archive:  /content/sample_data/challenge.zip\n",
            "replace c_c.bin? [y]es, [n]o, [A]ll, [N]one, [r]ename: "
          ]
        }
      ]
    },
    {
      "cell_type": "code",
      "source": [
        "from Crypto.Cipher import AES\n",
        "from tqdm import tqdm\n",
        "import binascii #Library to use to convert the file contents or values from binary to asscii and vice cersa\n",
        "\n",
        "\n",
        "# Load plaintext and ciphertext from files\n",
        "#To perfrom the activity we first need to read the data from the cipher files and the corresponding \n",
        "#nonce and plain text files.\n",
        "\n",
        "#Reading the data from the cipher text files with .bin extension.\n",
        "#This cipher data is stored in the variables cipher_texgt_c1, cipher_text_c2 and cipher_text_c3\n",
        "cipher_text_c1 = read_binary_files(\"c1.bin\")#read_binary_files is a custom method wriiten to read the files in binary format\n",
        "cipher_text_c2 = read_binary_files(\"c2.bin\")\n",
        "cipher_text_c3 = read_binary_files(\"c3.bin\")\n",
        "\n",
        "#Now since the cipher text is read in binary format, lets try to read the text files in the same format\n",
        "#These messages from each file are stored in the variables message_text_m1,message_text_m2,message_text_m3.\n",
        "message_text_m1 = read_binary_files(\"m1.txt\")\n",
        "message_text_m2 = read_binary_files(\"m2.txt\")\n",
        "message_text_m3 = read_binary_files(\"m3.txt\")\n",
        "\n",
        "#Now lets try to load the nonce content in to the desired variables in the binary format\n",
        "# Load nonce for CTR mode from files\n",
        "nonce1 = read_binary_files(\"nonce1.bin\")\n",
        "nonce2 = read_binary_files(\"nonce2.bin\")\n",
        "nonce3 = read_binary_files(\"nonce3.bin\")\n",
        "\n",
        "\n",
        "\n",
        "#Now, defining the key\n",
        "#in the questionn it is given that the key format follows first 13 bytes be fixed\n",
        "#Meaning first digit is 1 in binary and next 12 zeros\n",
        "#Total key length is of 16 bytes meaning only last 3 bytes are changing\n",
        "#Key pattern is already given as x80 for initial value and x00 for next 12  \n",
        "# Based on that we are giving the keylength as 2 and Key space as 2**(key length*8) also equal to 2^24\n",
        "key_length = 3 \n",
        "key_space = 2**(key_length * 8) # 2^24\n",
        "print(\"\\nEXHAUSTIVE KEY SEARCH RESULTS\\n\\n\")\n",
        "# Writing a for loop to iterate over to check for the possibilities of all the keys\n",
        "\n",
        "for k in tqdm(range(key_space), desc=\"Searching for key ...\"):\n",
        "    # Giving the custom intial key format since the initial staring 13 bytes are known, that is given already\n",
        "    key = b\"\\x80\\x00\\x00\\x00\\x00\\x00\\x00\\x00\\x00\\x00\\x00\\x00\\x00\" + k.to_bytes(key_length, byteorder=\"big\")\n",
        "    \n",
        "    #Now checking each cipher text fromm plain text \n",
        "    #In the straight forward approach mentioned in the lecture notes 4-2, given\n",
        "    # encrypt the messages witht the keys to generate the cipher text and match for the same.\n",
        "    #We can also verify by decryption also lets try first with encryption.\n",
        "\n",
        "    #The c1, c2, c3 are the ciphes that are created to encrypt or decrypt the message / cipher texts\n",
        "    c1 = AES.new(key, AES.MODE_CTR, nonce=nonce1)\n",
        "    c2 = AES.new(key, AES.MODE_CTR, nonce=nonce2)\n",
        "    c3 = AES.new(key, AES.MODE_CTR, nonce=nonce3)\n",
        "    \n",
        "    #Encrypting the message texts with the current generated secret key\n",
        "    encrypt_1 = c1.encrypt(message_text_m1)\n",
        "    encrypt_2 = c2.encrypt(message_text_m2)\n",
        "    encrypt_3 = c3.encrypt(message_text_m3)\n",
        "\n",
        "    if cipher_text_c3 == encrypt_3 and cipher_text_c2 == encrypt_2 and cipher_text_c1 == encrypt_1:\n",
        "        #write_key = binascii.hexlify(key) #storing the key in hex fomat to a file to write to text file\n",
        "        print(\"\\n\\nThe key used to encrypt 3 message files is:: \", binascii.hexlify(key))\n",
        "        write_bytes(\"key.bin\", key)#writing key in binary format\n",
        "        write_file(\"key_in_text.txt\",key.hex())#writing key to different file in hex format for backup\n",
        "        print(\"\\n The key is written to key.bin file\\n\")\n",
        "        break\n",
        "\n",
        "\n",
        "   "
      ],
      "metadata": {
        "colab": {
          "base_uri": "https://localhost:8080/",
          "height": 0
        },
        "id": "oqEE1XP8PLMY",
        "outputId": "f2a9ed44-3d94-4bbf-bb87-4ce2978b00ce"
      },
      "execution_count": 8,
      "outputs": [
        {
          "output_type": "stream",
          "name": "stdout",
          "text": [
            "\n",
            "EXHAUSTIVE KEY SEARCH RESULTS\n",
            "\n",
            "\n"
          ]
        },
        {
          "output_type": "stream",
          "name": "stderr",
          "text": [
            "Searching for key ...:  37%|███▋      | 6286948/16777216 [07:47<12:59, 13452.09it/s]"
          ]
        },
        {
          "output_type": "stream",
          "name": "stdout",
          "text": [
            "\n",
            "\n",
            "The key used to encrypt 3 message files is::  b'800000000000000000000000005fee64'\n",
            "\n",
            " The key is written to key.bin file\n",
            "\n"
          ]
        },
        {
          "output_type": "stream",
          "name": "stderr",
          "text": [
            "\n"
          ]
        }
      ]
    },
    {
      "cell_type": "markdown",
      "source": [
        "Program to read the key and then decrypt the challenge cipher"
      ],
      "metadata": {
        "id": "kMQxY3DhWJqe"
      }
    },
    {
      "cell_type": "code",
      "source": [
        "from Cryptodome.Cipher import AES\n",
        "\n",
        "#reading the challenge cipher and challenge nonce\n",
        "\n",
        "challenge_cipher_text = read_binary_files(\"c_c.bin\")#Reading the challenge cipher\n",
        "challenge_nonce = read_binary_files(\"nonce_c.bin\")#Reading chalenge nonce\n",
        "key = read_binary_files(\"key.bin\")#readig the challenge key from the file key.bin\n",
        "#The read_binary_files method is used to read files in binary format\n",
        "cc = AES.new(key, AES.MODE_CTR, nonce=challenge_nonce)#Creating ciper to decrypt \n",
        "\n",
        "\n",
        "decrypt = cc.decrypt(challenge_cipher_text)#decrypting the cipher text using cipher\n",
        "#and storing the value in decrypt variable\n",
        "\n",
        "print(\"\\nThe decrypted challenge cipher is: \" ,decrypt)#value of decrypt is displayed"
      ],
      "metadata": {
        "colab": {
          "base_uri": "https://localhost:8080/",
          "height": 0
        },
        "id": "i28MkhTdTHI5",
        "outputId": "be938ac3-252b-46bb-ac50-9f31afb52321"
      },
      "execution_count": 9,
      "outputs": [
        {
          "output_type": "stream",
          "name": "stdout",
          "text": [
            "\n",
            "The decrypted challenge cipher is:  b'UNT is a community of dreamers and doers.'\n"
          ]
        }
      ]
    },
    {
      "cell_type": "code",
      "source": [],
      "metadata": {
        "id": "w0LUR2pDbL8y"
      },
      "execution_count": 9,
      "outputs": []
    }
  ]
}