{
  "nbformat": 4,
  "nbformat_minor": 0,
  "metadata": {
    "colab": {
      "provenance": []
    },
    "kernelspec": {
      "name": "python3",
      "display_name": "Python 3"
    },
    "language_info": {
      "name": "python"
    }
  },
  "cells": [
    {
      "cell_type": "code",
      "execution_count": 14,
      "metadata": {
        "colab": {
          "base_uri": "https://localhost:8080/"
        },
        "id": "idcStRfAKUgO",
        "outputId": "dc1b2401-9830-45c4-fd31-fc6bb896c9cc"
      },
      "outputs": [
        {
          "output_type": "stream",
          "name": "stdout",
          "text": [
            "Looking in indexes: https://pypi.org/simple, https://us-python.pkg.dev/colab-wheels/public/simple/\n",
            "Requirement already satisfied: pycryptodome in /usr/local/lib/python3.9/dist-packages (3.17)\n",
            "Looking in indexes: https://pypi.org/simple, https://us-python.pkg.dev/colab-wheels/public/simple/\n",
            "Requirement already satisfied: Crypto in /usr/local/lib/python3.9/dist-packages (1.4.1)\n",
            "Requirement already satisfied: Naked in /usr/local/lib/python3.9/dist-packages (from Crypto) (0.1.32)\n",
            "Requirement already satisfied: shellescape in /usr/local/lib/python3.9/dist-packages (from Crypto) (3.8.1)\n",
            "Requirement already satisfied: pyyaml in /usr/local/lib/python3.9/dist-packages (from Naked->Crypto) (6.0)\n",
            "Requirement already satisfied: requests in /usr/local/lib/python3.9/dist-packages (from Naked->Crypto) (2.27.1)\n",
            "Requirement already satisfied: charset-normalizer~=2.0.0 in /usr/local/lib/python3.9/dist-packages (from requests->Naked->Crypto) (2.0.12)\n",
            "Requirement already satisfied: urllib3<1.27,>=1.21.1 in /usr/local/lib/python3.9/dist-packages (from requests->Naked->Crypto) (1.26.15)\n",
            "Requirement already satisfied: idna<4,>=2.5 in /usr/local/lib/python3.9/dist-packages (from requests->Naked->Crypto) (3.4)\n",
            "Requirement already satisfied: certifi>=2017.4.17 in /usr/local/lib/python3.9/dist-packages (from requests->Naked->Crypto) (2022.12.7)\n"
          ]
        }
      ],
      "source": [
        "!pip install pycryptodome\n",
        "!pip install Crypto\n"
      ]
    },
    {
      "cell_type": "code",
      "source": [
        "from hashlib import sha256 #Since only sha256 is asked to use in the project\n",
        "from Crypto.Random import get_random_bytes# To generate the random messages to find colisions"
      ],
      "metadata": {
        "id": "nahRb3FUPYV_"
      },
      "execution_count": 15,
      "outputs": []
    },
    {
      "cell_type": "code",
      "source": [
        "#According to the project description we are needed to design a function\n",
        "#called as badhash44.\n",
        "#The main purpose of this message is to take a 25 bit message and return the \n",
        "#first 44 bits of the hash generated for the message digest\n",
        "\n",
        "\n",
        "def BadHash44(message_in_bytes):\n",
        "  #Now first generate the 256 hash for the string obtained \n",
        "  #using the sha256(message).hexdigest()\n",
        "  #This ensures 256 bit hash is generated for the input message\n",
        "  hash_string = sha256(message_in_bytes).hexdigest()\n",
        "    #In hex, each digit holds 4 bits so we are retruning the 11 digit of the generated hash_String\n",
        "    #so :11 meaning 11 digits, it first 44 bits of the data.\n",
        "  return hash_string[:11] # This returns the first 44 bits of data."
      ],
      "metadata": {
        "id": "EI-NrjtaR9Bo"
      },
      "execution_count": 16,
      "outputs": []
    },
    {
      "cell_type": "code",
      "source": [
        "#Main program to find the collision and also to add all the generated hashes\n",
        "# to a .txt file or csv file. Here for convenience we are using hash.txt file\n",
        "#Here the process is we generate the random message set and generate the hashes for the same\n",
        "#using the badhash function and then we will sort the hashes and then add them to the File.\n",
        "\n",
        "def start_attact():\n",
        "  reset = 0#To reset the counter value\n",
        "  collision = False #To check for the colisions to stop the loops\n",
        "\n",
        "  while not collision:\n",
        "    count = 0\n",
        "    hash_list = []\n",
        "\n",
        "    while count < (1.2 * 4194304): #To get 50%probalility according to theorem and 4194304 is 2^22.\n",
        "      random_input_string = get_random_bytes(32) # we want 256-bit input string so 32 bytes\n",
        "      hash_input_string = BadHash44(random_input_string)\n",
        "      #The above is calling the badhash44 to get the hash for the random generated string using the defined function.\n",
        "      hash_list.append([hash_input_string, random_input_string.hex()])\n",
        "      #The above is appending the hash and the input string in hex to the hash list\n",
        "      count = count + 1\n",
        "\n",
        "    hash_list.sort(key = lambda count: count[0])\n",
        "    #This is to sort the elements in the hash list according to the hash\n",
        "    #This is requirement asked for us.\n",
        "\n",
        "    #Next Once the hashes are sorted, we need to write those to the file\n",
        "    #Here we are storing them to the hash.txt file.\n",
        "    sorted_hash = [\"{0}: {1} \\n\".format(hash, ip_string) for (hash, ip_string) in hash_list]\n",
        "    #Formating the hash_list into key value pair wise to write to the file\n",
        "    with open('/content/sample_data/hash.txt', 'w') as op:#creating hash.txt file in write mode\n",
        "      op.writelines(sorted_hash)#using writelines method to write the data to file\n",
        "    op.close()#closing the file \n",
        "    '''\n",
        "    Here to get the collision, two hash values(basically first 44 bits or 11 characters in the hex value)\n",
        "    should be same, and we are adding only that value to the hash_list,\n",
        "    we are sorting the list. So we if we compare the i and i+1 value in the list\n",
        "    we can check if two values are same.\n",
        "    So to do that we are using the below logic.\n",
        "    where we compare i and i+1 elements in the hash_list and if equal\n",
        "    collision is found and the search is terminated.\n",
        "    Else if it is not found then the whole process beginning from generation of the \n",
        "    Random list is performed again in the later intervals.\n",
        "\n",
        "    '''\n",
        "    list_length = len(hash_list)\n",
        "    i = 0\n",
        "    while i <(list_length - 1):\n",
        "      if hash_list[i][0] == hash_list[i+1][0]:\n",
        "        #checking whether two values are equal\n",
        "        print(\"\\nThe collision is Found\")\n",
        "        collision = True#reseting the collison flag to stop the loop\n",
        "        #Displaying the collison information as Deemed by the birthday attack\n",
        "        print(\"\\n The information on collision is as follows:\\n\")\n",
        "        print(\"Hash value is:\", hash_list[i][0])\n",
        "        print(\"\\nThe messages are:\\n\")\n",
        "        print(\"Message 1: \",hash_list[i][1])\n",
        "        print(\"\\nMessage 2: \",hash_list[i+1][1])\n",
        "        print(\"\\nThe total resets required are: \",reset)\n",
        "        break;\n",
        "\n",
        "      i = i+1#incrementing the while loop counter\n",
        "    #Increasing the reset value to find number of times the random values are generated.\n",
        "    if not collision:\n",
        "      reset = reset + 1\n",
        "      \n",
        "      print(\"\\nCollisons not found in iteration \",reset)\n",
        "      print(\"\\nGenerating random messages again\")\n",
        "\n",
        "    \n",
        "\n"
      ],
      "metadata": {
        "id": "euZQrjGvtnj6"
      },
      "execution_count": 17,
      "outputs": []
    },
    {
      "cell_type": "code",
      "source": [
        "print(\"\\n*************************Starting BIRTHDAY ATTACK**********************\\n\\n\")\n",
        "\n",
        "print( \"\\nGenerating 1.2*2^22 random messages\\n\")\n",
        "start_attact()"
      ],
      "metadata": {
        "colab": {
          "base_uri": "https://localhost:8080/"
        },
        "id": "K43qcioJ2vIf",
        "outputId": "6fa1592c-58ab-47cf-a6ad-b3a629f7e7e6"
      },
      "execution_count": 18,
      "outputs": [
        {
          "output_type": "stream",
          "name": "stdout",
          "text": [
            "\n",
            "*************************Starting BIRTHDAY ATTACK**********************\n",
            "\n",
            "\n",
            "\n",
            "Generating 1.2*2^22 random messages\n",
            "\n",
            "\n",
            "Collisons not found in iteration  1\n",
            "\n",
            "Generating random messages again\n",
            "\n",
            "The collision is Found\n",
            "\n",
            " The information on collision is as follows:\n",
            "\n",
            "Hash value is: 1ceeef39d6f\n",
            "\n",
            "The messages are:\n",
            "\n",
            "Message 1:  b732dce359168a1c64a390c10a7d077153e22e4259943db57ce1bf070c236452\n",
            "\n",
            "Message 2:  135245319a009c5e7431f11dd2cc058fb76f0a38dd8bfead76eb331a26fcf89f\n",
            "\n",
            "The total resets required are:  1\n"
          ]
        }
      ]
    },
    {
      "cell_type": "markdown",
      "source": [
        "###References:\n",
        "\n",
        "####https://docs.python.org/3/library/hashlib.html\n",
        "#### https://blogboard.io/blog/knowledge/python-sorted-lambda/\n",
        "#### https://www.w3schools.com/python/ref_file_writelines.asp\n",
        "\n",
        "#### Lecture 6-1, pages 34-38\n",
        "\n",
        "#### https://www.learnpythonwithrune.org/birthday-paradox-and-hash-function-collisions-by-example/\n",
        "\n",
        "\n",
        "\n"
      ],
      "metadata": {
        "id": "nfRPsZpIP9Hh"
      }
    }
  ]
}